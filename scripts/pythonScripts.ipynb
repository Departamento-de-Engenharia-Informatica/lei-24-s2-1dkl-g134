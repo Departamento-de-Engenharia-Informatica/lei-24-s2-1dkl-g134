{
 "cells": [
  {
   "cell_type": "markdown",
   "id": "32ba54ee",
   "metadata": {},
   "source": [
    "## UC009 - Check Water Consumption Costs"
   ]
  },
  {
   "cell_type": "code",
   "execution_count": 33,
   "id": "64527764",
   "metadata": {},
   "outputs": [
    {
     "name": "stdout",
     "output_type": "stream",
     "text": [
      "{'Cidade'}\n",
      "{'Cidade', 'SaoRoque', 'ArcaAgua', 'Covelo', 'Oriental'}\n",
      "[5.2, 4.9, 4.75, 4.75, 5.2, 5.2, 4.85, 5.15, 5.05, 4.95, 4.8, 5.05, 4.75, 5.25, 4.8, 4.8, 4.8, 5.1, 4.75, 4.8, 5.0, 5.15, 5.25, 5.0, 5.25, 5.1, 4.95, 4.9, 4.75, 4.9, 5.05, 5.5125, 5.46, 5.46, 5.1975, 5.1975, 5.145, 5.25, 5.145, 5.1975, 5.3025, 5.355, 4.9875, 4.9875, 5.3025, 5.04, 5.04, 4.9875, 5.3025, 5.145, 5.04, 5.5125, 5.25, 4.9875, 5.1975, 5.46, 4.9875, 5.355, 5.4075, 6.174, 6.426, 6.174, 6.552, 5.985, 6.048, 30.555, 6.552, 6.048, 5.985, 6.426, 6.426, 6.363, 5.985, 6.237, 6.615, 6.426, 6.615, 6.363, 6.615, 6.048, 6.552, 6.615, 5.985, 6.552, 5.985, 6.111, 5.985, 6.615, 6.426, 6.3, 7.7175, 7.79625, 7.7175, 8.0325, 8.11125, 7.79625, 8.26875, 7.56, 7.56, 8.0325, 7.63875, 7.48125, 8.26875, 7.7175, 7.48125, 7.95375, 7.48125, 8.19, 7.63875, 7.95375, 7.875, 7.875, 8.19, 7.875, 7.79625, 8.11125, 7.95375, 8.26875, 7.79625, 8.0325, 10.040625, 10.1390625, 9.646875, 9.3515625, 9.7453125, 9.45, 10.2375, 9.646875, 10.1390625, 10.2375, 9.9421875, 9.5484375, 9.7453125, 10.040625, 9.84375, 9.45, 9.646875, 9.9421875, 9.45, 9.84375, 10.040625, 10.2375, 9.45, 9.45, 9.9421875, 10.3359375, 10.2375, 49.21875, 9.45, 10.1390625, 10.3359375, 13.3678125, 14.3325, 14.3325, 13.0921875, 13.78125, 13.6434375, 14.4703125, 14.3325, 13.23, 13.3678125, 13.9190625, 13.23, 13.6434375, 13.6434375, 14.056875, 14.1946875, 13.23, 13.505625, 13.3678125, 13.23, 14.056875, 14.056875, 14.056875, 13.505625, 13.9190625, 14.056875, 14.1946875, 13.0921875, 14.056875, 13.505625, 17.199, 17.01984375, 18.45309375, 17.199, 17.01984375, 17.5573125, 17.01984375, 17.73646875, 18.45309375, 18.09478125, 17.199, 18.09478125, 17.5573125, 17.01984375, 17.915625, 18.09478125, 17.5573125, 17.01984375, 17.37815625, 18.09478125, 17.73646875, 17.01984375, 17.199, 17.5573125, 17.01984375, 17.915625, 18.2739375, 17.5573125, 18.2739375, 17.915625, 17.5573125, 16.33905, 17.36024063, 16.67944688, 16.16885156, 16.67944688, 17.19004219, 17.01984375, 17.01984375, 17.01984375, 17.53043906, 16.67944688, 16.84964531, 17.19004219, 17.36024063, 17.01984375, 16.84964531, 16.16885156, 16.33905, 16.67944688, 16.33905, 17.53043906, 17.87083594, 16.50924844, 17.19004219, 17.01984375, 16.16885156, 16.16885156, 17.87083594, 17.19004219, 17.53043906, 17.01984375, 11.79475172, 11.91389063, 11.31819609, 12.50958516, 11.79475172, 12.15216844, 11.91389063, 11.55647391, 12.50958516, 12.03302953, 12.50958516, 11.79475172, 11.91389063, 11.55647391, 11.31819609, 11.55647391, 11.55647391, 12.27130734, 11.437335, 12.15216844, 11.67561281, 12.50958516, 11.67561281, 11.79475172, 11.67561281, 11.91389063, 11.91389063, 11.55647391, 12.03302953, 11.437335, 8.506517906, 8.423120672, 8.339723438, 8.506517906, 8.172928969, 8.089531734, 8.589915141, 8.339723438, 8.673312375, 7.922737266, 8.256326203, 8.089531734, 8.423120672, 8.339723438, 8.089531734, 8.172928969, 8.756709609, 8.089531734, 7.922737266, 8.339723438, 8.339723438, 8.172928969, 8.172928969, 8.673312375, 8.0061345, 8.673312375, 8.673312375, 8.339723438, 8.256326203, 8.673312375, 8.172928969, 6.4049076, 6.4049076, 6.805214325, 6.871932113, 6.871932113, 6.805214325, 6.738496538, 6.338189813, 6.605060963, 6.805214325, 6.4049076, 7.005367688, 6.871932113, 6.67177875, 6.805214325, 7.005367688, 6.471625388, 6.4049076, 6.67177875, 6.871932113, 6.338189813, 6.471625388, 6.4049076, 6.4049076, 6.4049076, 6.738496538, 6.871932113, 6.338189813, 6.4049076, 6.67177875, 5.39079723, 5.55091992, 5.55091992, 5.23067454, 5.07055185, 5.60429415, 5.49754569, 5.49754569, 5.39079723, 5.44417146, 5.39079723, 5.337423, 5.49754569, 5.55091992, 5.39079723, 5.17730031, 5.60429415, 5.55091992, 5.07055185, 5.39079723, 25.35275925, 5.44417146, 5.17730031, 5.17730031, 5.55091992, 5.337423, 5.60429415, 5.12392608, 5.337423, 5.17730031, 5.12392608, 4.9, 4.95, 5.25, 5.05, 4.8, 4.9, 5.15, 4.75, 5.1, 5.2, 5.15, 5.05, 4.85, 5.05, 4.85, 5.0, 24.5, 4.95, 4.9, 4.9, 5.2, 5.2, 5.15, 5.1, 4.85, 4.75, 5.15, 0.0, 4.95, 5.25, 4.95, 5.355, 5.46, 5.04, 5.04, 5.4075, 5.355, 5.25, 5.5125, 4.9875, 5.3025, 5.46, 5.1975, 5.5125, 5.04, 5.0925, 5.145, 5.1975, 5.25, 4.9875, 5.4075, 5.25, 5.5125, 5.25, 5.4075, 5.1975, 5.1975, 5.4075, 5.04, 5.5125, 6.363, 5.985, 6.615, 6.363, 6.111, 6.489, 6.174, 6.237, 6.489, 6.111, 6.111, 6.3, 6.552, 6.111, 6.552, 6.174, 6.615, 6.111, 6.615, 6.426, 6.552, 6.426, 6.363, 6.363, 6.174, 6.174, 6.3, 6.363, 6.048, 6.426, 6.489]\n",
      "8.99599282623465\n"
     ]
    }
   ],
   "source": [
    "import numpy as np\n",
    "import seaborn as sns \n",
    "import pandas\n",
    "\n",
    "#inp_year = input(\"Year: \")\n",
    "#inp_startMonth = input(\"Start month: \")\n",
    "#inp_endMonth = input(\"End month: \")\n",
    "#inp_numParks = input(\"Number of parks: \")\n",
    "#inp_parkList = list()\n",
    "\n",
    "df = pandas.read_csv('water_consumption.csv', delimiter=';')\n",
    "df['Date'] = pandas.to_datetime(df[['Year', 'Month', 'Day']])\n",
    "\n",
    "#for i in range(int(inp_numParks)):\n",
    "#        inp_parkList.insert(i, input(\"Park name: \"))\n",
    "\n",
    "def monthlyAvarageWaterCost(parkName):\n",
    "        selectedParkData = df.loc[df['Park'] == parkName]\n",
    "        monthlyCosts = 0\n",
    "        monthAvarage = 0\n",
    "        monthCount = 0\n",
    "    \n",
    "        for month, monthly_data in selectedParkData.groupby(selectedParkData['Date'].dt.to_period('M')):\n",
    "                monthCount += 1\n",
    "                totalCost = 0\n",
    "                for dailyConsumption in monthly_data['Consumption']:\n",
    "                        if dailyConsumption > 50:\n",
    "                                totalCost += (50 * 0.7) + ((dailyConsumption - 50) * 0.7 * 0.15)\n",
    "                        else:\n",
    "                                totalCost += dailyConsumption * 0.7\n",
    "                \n",
    "                monthlyCosts += totalCost\n",
    "        monthAvarage = monthlyCosts / monthCount\n",
    "        return monthAvarage\n",
    "\n",
    "def parksWithHigherWaterConsumption():\n",
    "        return set(df['Park'].loc[df['Consumption'] == df['Consumption'].max()])\n",
    "\n",
    "def parksWithLowerWaterConsumption():\n",
    "        return set(df['Park'].loc[df['Consumption'] == df['Consumption'].min()])\n",
    "\n",
    "def meanConsumption(parkName):\n",
    "        selected_park_data = df.loc[df['Park'] == parkName]\n",
    "        print(list(selected_park_data['Consumption']))\n",
    "        return selected_park_data['Consumption'].mean()\n",
    "\n",
    "\n",
    "def barplotMonthlyConsumption(parkName, startMonth, endMonth, year):\n",
    "        selected_park_data = df.loc[df['Park'] == parkName]\n",
    "\n",
    "        monthly_consumption = selected_park_data.groupby(selected_park_data['Date'].dt.to_period('M'))['Consumption'].sum().reset_index()\n",
    "\n",
    "        monthly_consumption['Month'] = monthly_consumption['Date'].dt.strftime('%m')\n",
    "        monthly_consumption['Year'] = monthly_consumption['Date'].dt.strftime('%Y')\n",
    "\n",
    "        selected_park_data.loc[:,'Date'] = selected_park_data['Date'].dt.strftime('%Y-%m-%d')\n",
    "\n",
    "        monthly_consumption = monthly_consumption.loc[monthly_consumption['Year'] == year]\n",
    "\n",
    "        monthly_consumption = monthly_consumption[(monthly_consumption['Month'].astype(int) >= startMonth) & (monthly_consumption['Month'].astype(int) <= endMonth)]\n",
    "\n",
    "        print(selected_park_data)\n",
    "        print(monthly_consumption)\n",
    "        \n",
    "        sns.barplot(x='Month', y='Consumption', data=monthly_consumption, color ='red')\n",
    "\n",
    "#barplotMonthlyConsumption(\"ArcaAgua\",3,7,'2023')\n",
    "monthlyAvarageWaterCost(\"ArcaAgua\")\n",
    "print(parksWithHigherWaterConsumption())\n",
    "print(parksWithLowerWaterConsumption())\n",
    "print(meanConsumption(\"ArcaAgua\"))"
   ]
  }
 ],
 "metadata": {
  "kernelspec": {
   "display_name": "Python 3 (ipykernel)",
   "language": "python",
   "name": "python3"
  },
  "language_info": {
   "codemirror_mode": {
    "name": "ipython",
    "version": 3
   },
   "file_extension": ".py",
   "mimetype": "text/x-python",
   "name": "python",
   "nbconvert_exporter": "python",
   "pygments_lexer": "ipython3",
   "version": "3.11.5"
  }
 },
 "nbformat": 4,
 "nbformat_minor": 5
}
